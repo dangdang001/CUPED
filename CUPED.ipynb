{
 "cells": [
  {
   "cell_type": "code",
   "execution_count": 1,
   "metadata": {},
   "outputs": [],
   "source": [
    "import numpy as np\n",
    "import pandas as pd\n",
    "import seaborn as sns\n",
    "import matplotlib.pyplot as plt\n",
    "import scipy.stats\n",
    "import math\n",
    "%matplotlib inline"
   ]
  },
  {
   "cell_type": "code",
   "execution_count": 17,
   "metadata": {},
   "outputs": [],
   "source": [
    "# Define functions\n",
    "\n",
    "## generate_dataset: function to generate an random dataset\n",
    "\n",
    "def generate_dataset(n_samples=100, uplift = 0):\n",
    "    pre = np.random.normal(0, 1, n_samples)\n",
    "    post = 10 * pre + 2 * np.sin((pre * 5) * 2 * np.pi)\n",
    "    group = np.random.binomial(1,0.5,n_samples)\n",
    "    df = pd.DataFrame({'pre': pre, 'post': post, 'group':group})\n",
    "    df.loc[lambda df: df.group == 1, \"post\"] += uplift\n",
    "    return df\n",
    "\n",
    "\n",
    "## t_test: t-test functions on aggregated statistics\n",
    "\n",
    "\n",
    "# Input parameters:\n",
    "\n",
    "## m1, m2: the sample means for treatment and control, respectively\n",
    "## s1, s2: the sample standard deviations for treatment and control, respectively\n",
    "## n1, n2: the same sizes for treatment and control, respectively\n",
    "## m0: the null value for the difference in means to be tested for. Default is 0\n",
    "## equal.variance: whether or not to assume equal variance. Default is FALSE\n",
    "## alternative: 'two-sided', 'greater', 'less'. Default is 'two-sided'\n",
    "\n",
    "# Output values:\n",
    "\n",
    "## A dataframe contains the following columns:\n",
    "    ### treatment: sample means for treatment\n",
    "    ### control: sample means for control\n",
    "    ### delta: mean difference between treatment and control\n",
    "    ### lift: (mu_treatment-mu_control)/mu_control\n",
    "    ### tstat: t-statistic\n",
    "    ### p_value: p-value from the test\n",
    "    ### lower_CI: lower bound of confidence interval\n",
    "    ### upper_CI: upper bound of confidence interval\n",
    "    \n",
    "\n",
    "def t_test(m1, m2, s1, s2, n1, n2, m0=0, equal_var=False, alternative = 'two-sided', alpha = 0.05):\n",
    "    dat = pd.DataFrame()\n",
    "    if equal_var == False:\n",
    "        se = math.sqrt((s1**2/n1) + (s2**2/n2))\n",
    "        # welch-satterthwaite df\n",
    "        df = ((s1**2/n1 + s2**2/n2)**2)/((s1**2/n1)**2/(n1-1) + (s2**2/n2)**2/(n2-1))\n",
    "    else:\n",
    "        # pooled standard deviation, scaled by the sample sizes\n",
    "        se = math.sqrt( (1/n1 + 1/n2) * ((n1-1)*s1**2 + (n2-1)*s2**2)/(n1+n2-2) ) \n",
    "        df = n1+n2-2\n",
    "    t = (m1-m2-m0)/se   \n",
    "    if alternative == 'two-sided':\n",
    "        dat = pd.DataFrame({'treatment':m1, \n",
    "                            'control':m2, \n",
    "                            'delta': m1-m2, \n",
    "                            'lift': (m1-m2)/m2, \n",
    "                            'tstat': t, \n",
    "                            'p_value': 2*scipy.stats.t.cdf(-abs(t),df), \n",
    "                            'lower_95_CI': m1-m2-scipy.stats.t.ppf(1-alpha/2,df)*se, \n",
    "                            'upper_95_CI': m1-m2+scipy.stats.t.ppf(1-alpha/2,df)*se}, index=[0])    \n",
    "    elif alternative == 'greater':\n",
    "        dat = pd.DataFrame({'treatment':m1, \n",
    "                            'control':m2, \n",
    "                            'delta': m1-m2, \n",
    "                            'lift': (m1-m2)/m2, \n",
    "                            'tstat': t, \n",
    "                            'p_value': 1-scipy.stats.t.cdf(t,df), \n",
    "                            'lower_95_CI': m1-m2-scipy.stats.t.ppf(1-alpha,df)*se, \n",
    "                            'upper_95_CI': float('inf')}, index=[0])  \n",
    "    elif alternative == 'less':\n",
    "        dat = pd.DataFrame({'treatment':m1, \n",
    "                            'control':m2, \n",
    "                            'delta': m1-m2, \n",
    "                            'lift': (m1-m2)/m2, \n",
    "                            'tstat': t, \n",
    "                            'p_value': scipy.stats.t.cdf(t,df), \n",
    "                            'lower_CI': float('-inf'), \n",
    "                            'upper_CI': m1-m2+scipy.stats.t.ppf(1-alpha,df)*se}, index=[0]) \n",
    "\n",
    "    return dat\n",
    "\n",
    "\n",
    "## t_test_raw: t-test functions on raw data\n",
    "\n",
    "\n",
    "# Input parameters:\n",
    "\n",
    "## df: dataframe\n",
    "## x: treatment\n",
    "## y: control\n",
    "## d: the null value for the difference in means to be tested for. Default is 0\n",
    "## equal.variance: whether or not to assume equal variance. Default is FALSE\n",
    "## alternative: 'two-sided', 'greater', 'less'. Default is 'two-sided'\n",
    "\n",
    "# Output values:\n",
    "\n",
    "## A dataframe contains the following columns:\n",
    "    ### treatment: sample means for treatment\n",
    "    ### control: sample means for control\n",
    "    ### delta: mean difference between treatment and control\n",
    "    ### lift: (mu_treatment-mu_control)/mu_control\n",
    "    ### tstat: t-statistic\n",
    "    ### p_value: p-value from the test\n",
    "    ### lower_CI: lower bound of confidence interval\n",
    "    ### upper_CI: upper bound of confidence interval\n",
    "    \n",
    "\n",
    "def t_test_raw(df,x,y, d=0, equal_var=False, alternative = 'two-sided', alpha = 0.05):\n",
    "    \n",
    "    print(df)\n",
    "\n",
    "    m1,m2 = df.x.mean(),df.y.mean()\n",
    "    s1,s2 = df.x.std(),df.y.std()\n",
    "    n1,n2 = len(df.x),len(df.y)\n",
    "    \n",
    "    dat = pd.DataFrame()\n",
    "    if equal_var == False:\n",
    "        se = math.sqrt((s1**2/n1) + (s2**2/n2))\n",
    "        # welch-satterthwaite df\n",
    "        df = ((s1**2/n1 + s2**2/n2)**2)/((s1**2/n1)**2/(n1-1) + (s2**2/n2)**2/(n2-1))\n",
    "    else:\n",
    "        # pooled standard deviation, scaled by the sample sizes\n",
    "        se = math.sqrt( (1/n1 + 1/n2) * ((n1-1)*s1**2 + (n2-1)*s2**2)/(n1+n2-2) ) \n",
    "        df = n1+n2-2\n",
    "    t = (m1-m2-d)/se   \n",
    "    if alternative == 'two-sided':\n",
    "        dat = pd.DataFrame({'treatment':m1, \n",
    "                            'control':m2, \n",
    "                            'delta': m1-m2, \n",
    "                            'lift': (m1-m2)/m2, \n",
    "                            'tstat': t, \n",
    "                            'p_value': 2*scipy.stats.t.cdf(-abs(t),df), \n",
    "                            'lower_95_CI': m1-m2-scipy.stats.t.ppf(1-alpha/2,df)*se, \n",
    "                            'upper_95_CI': m1-m2+scipy.stats.t.ppf(1-alpha/2,df)*se}, index=[0])    \n",
    "    elif alternative == 'greater':\n",
    "        dat = pd.DataFrame({'treatment':m1, \n",
    "                            'control':m2, \n",
    "                            'delta': m1-m2, \n",
    "                            'lift': (m1-m2)/m2, \n",
    "                            'tstat': t, \n",
    "                            'p_value': 1-scipy.stats.t.cdf(t,df), \n",
    "                            'lower_95_CI': m1-m2-scipy.stats.t.ppf(1-alpha,df)*se, \n",
    "                            'upper_95_CI': float('inf')}, index=[0])  \n",
    "    elif alternative == 'less':\n",
    "        dat = pd.DataFrame({'treatment':m1, \n",
    "                            'control':m2, \n",
    "                            'delta': m1-m2, \n",
    "                            'lift': (m1-m2)/m2, \n",
    "                            'tstat': t, \n",
    "                            'p_value': scipy.stats.t.cdf(t,df), \n",
    "                            'lower_CI': float('-inf'), \n",
    "                            'upper_CI': m1-m2+scipy.stats.t.ppf(1-alpha,df)*se}, index=[0]) \n",
    "\n",
    "    return dat\n",
    "\n",
    "\n",
    "## CUPED: function to calculate CUPED adjusted metric\n",
    "\n",
    "def CUPED(ds, x, y):\n",
    "    theta = ds.cov().loc[x, y] / ds.cov().loc[x, x]\n",
    "    \n",
    "    ds['CUPED_adjusted'] = ds[y] - theta * ds[x]\n",
    "    \n",
    "    return ds"
   ]
  },
  {
   "cell_type": "markdown",
   "metadata": {},
   "source": [
    "## Generate an random data set"
   ]
  },
  {
   "cell_type": "code",
   "execution_count": 8,
   "metadata": {},
   "outputs": [],
   "source": [
    "df = generate_dataset(200, 1)"
   ]
  },
  {
   "cell_type": "code",
   "execution_count": 10,
   "metadata": {},
   "outputs": [
    {
     "data": {
      "text/html": [
       "<div>\n",
       "<style scoped>\n",
       "    .dataframe tbody tr th:only-of-type {\n",
       "        vertical-align: middle;\n",
       "    }\n",
       "\n",
       "    .dataframe tbody tr th {\n",
       "        vertical-align: top;\n",
       "    }\n",
       "\n",
       "    .dataframe thead th {\n",
       "        text-align: right;\n",
       "    }\n",
       "</style>\n",
       "<table border=\"1\" class=\"dataframe\">\n",
       "  <thead>\n",
       "    <tr style=\"text-align: right;\">\n",
       "      <th></th>\n",
       "      <th>pre</th>\n",
       "      <th>post</th>\n",
       "      <th>group</th>\n",
       "    </tr>\n",
       "  </thead>\n",
       "  <tbody>\n",
       "    <tr>\n",
       "      <th>0</th>\n",
       "      <td>-0.201747</td>\n",
       "      <td>-1.127159</td>\n",
       "      <td>1</td>\n",
       "    </tr>\n",
       "    <tr>\n",
       "      <th>1</th>\n",
       "      <td>-0.152171</td>\n",
       "      <td>1.473640</td>\n",
       "      <td>1</td>\n",
       "    </tr>\n",
       "    <tr>\n",
       "      <th>2</th>\n",
       "      <td>0.329809</td>\n",
       "      <td>1.687127</td>\n",
       "      <td>0</td>\n",
       "    </tr>\n",
       "    <tr>\n",
       "      <th>3</th>\n",
       "      <td>-0.955509</td>\n",
       "      <td>-7.584961</td>\n",
       "      <td>0</td>\n",
       "    </tr>\n",
       "    <tr>\n",
       "      <th>4</th>\n",
       "      <td>0.305620</td>\n",
       "      <td>3.704910</td>\n",
       "      <td>1</td>\n",
       "    </tr>\n",
       "    <tr>\n",
       "      <th>...</th>\n",
       "      <td>...</td>\n",
       "      <td>...</td>\n",
       "      <td>...</td>\n",
       "    </tr>\n",
       "    <tr>\n",
       "      <th>195</th>\n",
       "      <td>0.472043</td>\n",
       "      <td>6.259728</td>\n",
       "      <td>0</td>\n",
       "    </tr>\n",
       "    <tr>\n",
       "      <th>196</th>\n",
       "      <td>1.254833</td>\n",
       "      <td>15.525321</td>\n",
       "      <td>1</td>\n",
       "    </tr>\n",
       "    <tr>\n",
       "      <th>197</th>\n",
       "      <td>0.559884</td>\n",
       "      <td>3.694493</td>\n",
       "      <td>0</td>\n",
       "    </tr>\n",
       "    <tr>\n",
       "      <th>198</th>\n",
       "      <td>-0.283200</td>\n",
       "      <td>-3.839265</td>\n",
       "      <td>0</td>\n",
       "    </tr>\n",
       "    <tr>\n",
       "      <th>199</th>\n",
       "      <td>0.639196</td>\n",
       "      <td>9.277847</td>\n",
       "      <td>1</td>\n",
       "    </tr>\n",
       "  </tbody>\n",
       "</table>\n",
       "<p>200 rows × 3 columns</p>\n",
       "</div>"
      ],
      "text/plain": [
       "          pre       post  group\n",
       "0   -0.201747  -1.127159      1\n",
       "1   -0.152171   1.473640      1\n",
       "2    0.329809   1.687127      0\n",
       "3   -0.955509  -7.584961      0\n",
       "4    0.305620   3.704910      1\n",
       "..        ...        ...    ...\n",
       "195  0.472043   6.259728      0\n",
       "196  1.254833  15.525321      1\n",
       "197  0.559884   3.694493      0\n",
       "198 -0.283200  -3.839265      0\n",
       "199  0.639196   9.277847      1\n",
       "\n",
       "[200 rows x 3 columns]"
      ]
     },
     "execution_count": 10,
     "metadata": {},
     "output_type": "execute_result"
    }
   ],
   "source": [
    "df"
   ]
  },
  {
   "cell_type": "markdown",
   "metadata": {},
   "source": [
    "## Distribution of the two group before adjustment"
   ]
  },
  {
   "cell_type": "code",
   "execution_count": 9,
   "metadata": {},
   "outputs": [
    {
     "data": {
      "text/plain": [
       "<matplotlib.legend.Legend at 0x7fcdb83c40d0>"
      ]
     },
     "execution_count": 9,
     "metadata": {},
     "output_type": "execute_result"
    },
    {
     "data": {
      "image/png": "[encoded data removed]",
      "text/plain": [
       "<Figure size 432x288 with 1 Axes>"
      ]
     },
     "metadata": {
      "needs_background": "light"
     },
     "output_type": "display_data"
    }
   ],
   "source": [
    "sns.distplot(df.loc[lambda df: df.group == 1,\"post\"] , color=\"skyblue\", label=\"Treatment\")\n",
    "sns.distplot(df.loc[lambda df: df.group == 0,\"post\"] , color=\"red\", label=\"Control\")\n",
    "plt.legend()"
   ]
  },
  {
   "cell_type": "markdown",
   "metadata": {},
   "source": [
    "## 1. Ordinary t-test"
   ]
  },
  {
   "cell_type": "code",
   "execution_count": 14,
   "metadata": {},
   "outputs": [
    {
     "data": {
      "text/html": [
       "<div>\n",
       "<style scoped>\n",
       "    .dataframe tbody tr th:only-of-type {\n",
       "        vertical-align: middle;\n",
       "    }\n",
       "\n",
       "    .dataframe tbody tr th {\n",
       "        vertical-align: top;\n",
       "    }\n",
       "\n",
       "    .dataframe thead th {\n",
       "        text-align: right;\n",
       "    }\n",
       "</style>\n",
       "<table border=\"1\" class=\"dataframe\">\n",
       "  <thead>\n",
       "    <tr style=\"text-align: right;\">\n",
       "      <th></th>\n",
       "      <th>treatment</th>\n",
       "      <th>control</th>\n",
       "      <th>delta</th>\n",
       "      <th>lift</th>\n",
       "      <th>tstat</th>\n",
       "      <th>p_value</th>\n",
       "      <th>lower_95_CI</th>\n",
       "      <th>upper_95_CI</th>\n",
       "    </tr>\n",
       "  </thead>\n",
       "  <tbody>\n",
       "    <tr>\n",
       "      <th>0</th>\n",
       "      <td>1.487498</td>\n",
       "      <td>1.785221</td>\n",
       "      <td>-0.297723</td>\n",
       "      <td>-0.166771</td>\n",
       "      <td>-0.237693</td>\n",
       "      <td>0.812377</td>\n",
       "      <td>-2.768522</td>\n",
       "      <td>2.173075</td>\n",
       "    </tr>\n",
       "  </tbody>\n",
       "</table>\n",
       "</div>"
      ],
      "text/plain": [
       "   treatment   control     delta      lift     tstat   p_value  lower_95_CI  \\\n",
       "0   1.487498  1.785221 -0.297723 -0.166771 -0.237693  0.812377    -2.768522   \n",
       "\n",
       "   upper_95_CI  \n",
       "0     2.173075  "
      ]
     },
     "execution_count": 14,
     "metadata": {},
     "output_type": "execute_result"
    }
   ],
   "source": [
    "m1 = df.loc[lambda df: df.group == 1,\"post\"].mean()\n",
    "m2 = df.loc[lambda df: df.group == 0,\"post\"].mean()\n",
    "s1 = df.loc[lambda df: df.group == 1,\"post\"].std()\n",
    "s2 = df.loc[lambda df: df.group == 0,\"post\"].std()\n",
    "n1 = len(df.loc[lambda df: df.group == 1,\"post\"])\n",
    "n2 = len(df.loc[lambda df: df.group == 0,\"post\"])\n",
    "\n",
    "t_test(m1, m2, s1, s2, n1, n2, m0=0, equal_var=False, alternative = 'two-sided', alpha = 0.05)"
   ]
  },
  {
   "cell_type": "markdown",
   "metadata": {},
   "source": [
    "P-value from ordinary two sample t-test is 0.812377, which indicates that the two group are not significantly different. "
   ]
  },
  {
   "cell_type": "markdown",
   "metadata": {},
   "source": [
    "## 2. CUPED adjusted"
   ]
  },
  {
   "cell_type": "markdown",
   "metadata": {},
   "source": [
    "We simulate a pre-experiment metric \"pre\", which has a high correlation with the post-experiment metric \"post\" we are looking at. The correlation coefficient between the two metrics is 0.987 in this example."
   ]
  },
  {
   "cell_type": "code",
   "execution_count": 15,
   "metadata": {},
   "outputs": [
    {
     "data": {
      "text/plain": [
       "0.9869819085538043"
      ]
     },
     "execution_count": 15,
     "metadata": {},
     "output_type": "execute_result"
    }
   ],
   "source": [
    "correlation = df.corr().loc[\"pre\",\"post\"]\n",
    "correlation"
   ]
  },
  {
   "cell_type": "markdown",
   "metadata": {},
   "source": [
    "We then apply the predefined CUPED function, using \"pre\" as the control variate, and obtain the CUPED adjusted \"post\" metric."
   ]
  },
  {
   "cell_type": "code",
   "execution_count": 18,
   "metadata": {},
   "outputs": [],
   "source": [
    "df_CUPED = CUPED(df, x='pre', y='post')"
   ]
  },
  {
   "cell_type": "markdown",
   "metadata": {},
   "source": [
    "Run t-test again on the adjusted metric:"
   ]
  },
  {
   "cell_type": "code",
   "execution_count": 19,
   "metadata": {},
   "outputs": [
    {
     "data": {
      "text/html": [
       "<div>\n",
       "<style scoped>\n",
       "    .dataframe tbody tr th:only-of-type {\n",
       "        vertical-align: middle;\n",
       "    }\n",
       "\n",
       "    .dataframe tbody tr th {\n",
       "        vertical-align: top;\n",
       "    }\n",
       "\n",
       "    .dataframe thead th {\n",
       "        text-align: right;\n",
       "    }\n",
       "</style>\n",
       "<table border=\"1\" class=\"dataframe\">\n",
       "  <thead>\n",
       "    <tr style=\"text-align: right;\">\n",
       "      <th></th>\n",
       "      <th>treatment</th>\n",
       "      <th>control</th>\n",
       "      <th>delta</th>\n",
       "      <th>lift</th>\n",
       "      <th>tstat</th>\n",
       "      <th>p_value</th>\n",
       "      <th>lower_95_CI</th>\n",
       "      <th>upper_95_CI</th>\n",
       "    </tr>\n",
       "  </thead>\n",
       "  <tbody>\n",
       "    <tr>\n",
       "      <th>0</th>\n",
       "      <td>0.950207</td>\n",
       "      <td>0.36017</td>\n",
       "      <td>0.590037</td>\n",
       "      <td>1.638221</td>\n",
       "      <td>3.011513</td>\n",
       "      <td>0.002941</td>\n",
       "      <td>0.203649</td>\n",
       "      <td>0.976426</td>\n",
       "    </tr>\n",
       "  </tbody>\n",
       "</table>\n",
       "</div>"
      ],
      "text/plain": [
       "   treatment  control     delta      lift     tstat   p_value  lower_95_CI  \\\n",
       "0   0.950207  0.36017  0.590037  1.638221  3.011513  0.002941     0.203649   \n",
       "\n",
       "   upper_95_CI  \n",
       "0     0.976426  "
      ]
     },
     "execution_count": 19,
     "metadata": {},
     "output_type": "execute_result"
    }
   ],
   "source": [
    "m1 = df.loc[lambda df: df.group == 1,\"CUPED_adjusted\"].mean()\n",
    "m2 = df.loc[lambda df: df.group == 0,\"CUPED_adjusted\"].mean()\n",
    "s1 = df.loc[lambda df: df.group == 1,\"CUPED_adjusted\"].std()\n",
    "s2 = df.loc[lambda df: df.group == 0,\"CUPED_adjusted\"].std()\n",
    "n1 = len(df.loc[lambda df: df.group == 1,\"CUPED_adjusted\"])\n",
    "n2 = len(df.loc[lambda df: df.group == 0,\"CUPED_adjusted\"])\n",
    "\n",
    "t_test(m1, m2, s1, s2, n1, n2, m0=0, equal_var=False, alternative = 'two-sided', alpha = 0.05)"
   ]
  },
  {
   "cell_type": "markdown",
   "metadata": {},
   "source": [
    "P-value from the CUPED adjusted t-test is 0.002941, which indicates that the two groups are significantly different."
   ]
  },
  {
   "cell_type": "markdown",
   "metadata": {},
   "source": [
    "## 3. Repeat the process and see the overall performance"
   ]
  },
  {
   "cell_type": "code",
   "execution_count": 33,
   "metadata": {},
   "outputs": [],
   "source": [
    "def run_many_times(dataset_generator, estimator, n_runs):\n",
    "    return np.array([estimator(dataset_generator(), x='pre', y='post') for _ in range(n_runs)])\n",
    "\n",
    "def compare_estimators(dataset_generator, estimators, true_uplift, n_runs=500):\n",
    "    results = {}\n",
    "    \n",
    "    for estimator_name, estimator in estimators.items():\n",
    "        res = run_many_times(dataset_generator, estimator, n_runs)\n",
    "        sns.kdeplot(res, shade=True, label=estimator_name)\n",
    "        \n",
    "        print(\"Estimator: {}\".format(estimator_name))\n",
    "        print(\"\\tConfidence Interval Width: {:.3f}\".format(2 * np.std(res)))\n",
    "        print(\"\\tBias: {:.3f}\".format(np.mean(res - true_uplift)))\n",
    "        results[estimator_name] = res\n",
    "        \n",
    "    ymin, ymax = plt.ylim()\n",
    "    plt.vlines(uplift, 0, ymax)\n",
    "    plt.vlines(0, 0, ymax, linestyles=\"dashed\")\n",
    "    plt.ylim(0, ymax)\n",
    "    \n",
    "    return results\n",
    "\n",
    "def base_estimator(ds, x, y):\n",
    "    a = ds[ds.group == 0]\n",
    "    b = ds[ds.group == 1]\n",
    "    return b[y].mean() - a[y].mean()\n",
    "\n",
    "def cv_estimator(ds, x, y):\n",
    "    theta = ds.cov().loc[x, y] / ds.cov().loc[x, x]\n",
    "    \n",
    "    ds_copy = ds.copy()\n",
    "    ds_copy[y] = ds[y] - theta * ds[x]\n",
    "    \n",
    "    return base_estimator(ds_copy, x, y)"
   ]
  },
  {
   "cell_type": "code",
   "execution_count": 34,
   "metadata": {},
   "outputs": [
    {
     "name": "stdout",
     "output_type": "stream",
     "text": [
      "Estimator: base\n",
      "\tConfidence Interval Width: 1.335\n",
      "\tBias: -0.013\n",
      "Estimator: control variate estimator\n",
      "\tConfidence Interval Width: 0.178\n",
      "\tBias: -0.002\n"
     ]
    },
    {
     "data": {
      "image/png": "[encoded data removed]",
      "text/plain": [
       "<Figure size 432x288 with 1 Axes>"
      ]
     },
     "metadata": {
      "needs_background": "light"
     },
     "output_type": "display_data"
    }
   ],
   "source": [
    "uplift = 2\n",
    "n_samples = 1000\n",
    "generator = lambda : generate_dataset(n_samples=n_samples,uplift=uplift)\n",
    "\n",
    "results = compare_estimators(\n",
    "    dataset_generator=generator,\n",
    "    estimators={\n",
    "        \"base\": base_estimator,\n",
    "        \"control variate estimator\": cv_estimator\n",
    "    },\n",
    "    true_uplift=uplift\n",
    ")"
   ]
  },
  {
   "cell_type": "code",
   "execution_count": 35,
   "metadata": {},
   "outputs": [
    {
     "data": {
      "text/plain": [
       "0.7695026353211021"
      ]
     },
     "execution_count": 35,
     "metadata": {},
     "output_type": "execute_result"
    }
   ],
   "source": [
    "from scipy.stats import norm\n",
    "\n",
    "sample_size = 1000\n",
    "alpha = 0.05\n",
    "z = norm.isf(alpha / 2)\n",
    "estimated_variance = df['post'].var()\n",
    "\n",
    "detectable_effect_size = z * np.sqrt(2 * estimated_variance / sample_size)\n",
    "detectable_effect_size"
   ]
  },
  {
   "cell_type": "code",
   "execution_count": 42,
   "metadata": {},
   "outputs": [
    {
     "data": {
      "text/plain": [
       "38.659725780055126"
      ]
     },
     "execution_count": 42,
     "metadata": {},
     "output_type": "execute_result"
    }
   ],
   "source": [
    "df['post'].var()/df['CUPED_adjusted'].var()"
   ]
  },
  {
   "cell_type": "markdown",
   "metadata": {},
   "source": [
    "We see a reduction in the standard deviation of the estimator. Without changing anything about our experiment, we have increased it's power. Specifically:\n",
    "\n",
    "- We've reduced the variance by a factor of 38.66\n",
    "- To get the same decrease by collecting more samples, this would take about 38.66 times more samples\n",
    "\n"
   ]
  },
  {
   "cell_type": "code",
   "execution_count": null,
   "metadata": {},
   "outputs": [],
   "source": []
  }
 ],
 "metadata": {
  "kernelspec": {
   "display_name": "Python 3",
   "language": "python",
   "name": "python3"
  },
  "language_info": {
   "codemirror_mode": {
    "name": "ipython",
    "version": 3
   },
   "file_extension": ".py",
   "mimetype": "text/x-python",
   "name": "python",
   "nbconvert_exporter": "python",
   "pygments_lexer": "ipython3",
   "version": "3.8.3"
  }
 },
 "nbformat": 4,
 "nbformat_minor": 4
}
